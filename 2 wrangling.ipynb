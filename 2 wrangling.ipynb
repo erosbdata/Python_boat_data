{
 "cells": [
  {
   "cell_type": "code",
   "execution_count": 1,
   "id": "de81d6b7",
   "metadata": {},
   "outputs": [],
   "source": [
    "import pandas as pd\n",
    "import numpy as np\n",
    "import os"
   ]
  },
  {
   "cell_type": "code",
   "execution_count": 2,
   "id": "69921f15",
   "metadata": {},
   "outputs": [],
   "source": [
    "path = r'C:\\Users\\erosb\\09-2023 Boat Sales Analysis'"
   ]
  },
  {
   "cell_type": "code",
   "execution_count": 3,
   "id": "efedb323",
   "metadata": {},
   "outputs": [],
   "source": [
    "df = pd.read_csv(os.path.join(path, 'Data', 'Prepared Data', 'boats_cleaned.csv'))"
   ]
  },
  {
   "cell_type": "code",
   "execution_count": 4,
   "id": "e4a502b9",
   "metadata": {},
   "outputs": [
    {
     "data": {
      "text/html": [
       "<div>\n",
       "<style scoped>\n",
       "    .dataframe tbody tr th:only-of-type {\n",
       "        vertical-align: middle;\n",
       "    }\n",
       "\n",
       "    .dataframe tbody tr th {\n",
       "        vertical-align: top;\n",
       "    }\n",
       "\n",
       "    .dataframe thead th {\n",
       "        text-align: right;\n",
       "    }\n",
       "</style>\n",
       "<table border=\"1\" class=\"dataframe\">\n",
       "  <thead>\n",
       "    <tr style=\"text-align: right;\">\n",
       "      <th></th>\n",
       "      <th>Price</th>\n",
       "      <th>Boat Type</th>\n",
       "      <th>Manufacturer</th>\n",
       "      <th>Short Description</th>\n",
       "      <th>Year Built</th>\n",
       "      <th>Length</th>\n",
       "      <th>Width</th>\n",
       "      <th>Material</th>\n",
       "      <th>Location</th>\n",
       "      <th>Country</th>\n",
       "      <th>Number of views last 7 days</th>\n",
       "    </tr>\n",
       "  </thead>\n",
       "  <tbody>\n",
       "    <tr>\n",
       "      <th>0</th>\n",
       "      <td>CHF 3337</td>\n",
       "      <td>Motor Yacht</td>\n",
       "      <td>Rigiflex power boats</td>\n",
       "      <td>new boat from stock</td>\n",
       "      <td>2017</td>\n",
       "      <td>4.00</td>\n",
       "      <td>1.90</td>\n",
       "      <td>NaN</td>\n",
       "      <td>Switzerland Â» Lake Geneva Â» VÃ©senaz</td>\n",
       "      <td>Switzerland</td>\n",
       "      <td>226</td>\n",
       "    </tr>\n",
       "    <tr>\n",
       "      <th>1</th>\n",
       "      <td>EUR 3490</td>\n",
       "      <td>Center console boat</td>\n",
       "      <td>Terhi power boats</td>\n",
       "      <td>new boat from stock</td>\n",
       "      <td>2020</td>\n",
       "      <td>4.00</td>\n",
       "      <td>1.50</td>\n",
       "      <td>Thermoplastic</td>\n",
       "      <td>Germany Â» BÃ¶nningstedt</td>\n",
       "      <td>Germany</td>\n",
       "      <td>75</td>\n",
       "    </tr>\n",
       "    <tr>\n",
       "      <th>2</th>\n",
       "      <td>CHF 3770</td>\n",
       "      <td>Sport Boat</td>\n",
       "      <td>Marine power boats</td>\n",
       "      <td>new boat from stock</td>\n",
       "      <td>0</td>\n",
       "      <td>3.69</td>\n",
       "      <td>1.42</td>\n",
       "      <td>Aluminium</td>\n",
       "      <td>Switzerland Â» Lake of Zurich Â» StÃ¤fa ZH</td>\n",
       "      <td>Switzerland</td>\n",
       "      <td>124</td>\n",
       "    </tr>\n",
       "    <tr>\n",
       "      <th>3</th>\n",
       "      <td>DKK 25900</td>\n",
       "      <td>Sport Boat</td>\n",
       "      <td>Pioner power boats</td>\n",
       "      <td>new boat from stock</td>\n",
       "      <td>2020</td>\n",
       "      <td>3.00</td>\n",
       "      <td>1.00</td>\n",
       "      <td>NaN</td>\n",
       "      <td>Denmark Â» Svendborg</td>\n",
       "      <td>Denmark</td>\n",
       "      <td>64</td>\n",
       "    </tr>\n",
       "    <tr>\n",
       "      <th>4</th>\n",
       "      <td>EUR 3399</td>\n",
       "      <td>Fishing Boat</td>\n",
       "      <td>Linder power boats</td>\n",
       "      <td>new boat from stock</td>\n",
       "      <td>2019</td>\n",
       "      <td>3.55</td>\n",
       "      <td>1.46</td>\n",
       "      <td>Aluminium</td>\n",
       "      <td>Germany Â» Bayern Â» MÃ¼nchen</td>\n",
       "      <td>Germany</td>\n",
       "      <td>58</td>\n",
       "    </tr>\n",
       "  </tbody>\n",
       "</table>\n",
       "</div>"
      ],
      "text/plain": [
       "       Price            Boat Type          Manufacturer    Short Description  \\\n",
       "0   CHF 3337          Motor Yacht  Rigiflex power boats  new boat from stock   \n",
       "1   EUR 3490  Center console boat     Terhi power boats  new boat from stock   \n",
       "2   CHF 3770           Sport Boat    Marine power boats  new boat from stock   \n",
       "3  DKK 25900           Sport Boat    Pioner power boats  new boat from stock   \n",
       "4   EUR 3399         Fishing Boat    Linder power boats  new boat from stock   \n",
       "\n",
       "   Year Built  Length  Width       Material  \\\n",
       "0        2017    4.00   1.90            NaN   \n",
       "1        2020    4.00   1.50  Thermoplastic   \n",
       "2           0    3.69   1.42      Aluminium   \n",
       "3        2020    3.00   1.00            NaN   \n",
       "4        2019    3.55   1.46      Aluminium   \n",
       "\n",
       "                                     Location      Country  \\\n",
       "0      Switzerland Â» Lake Geneva Â» VÃ©senaz  Switzerland   \n",
       "1                    Germany Â» BÃ¶nningstedt      Germany   \n",
       "2  Switzerland Â» Lake of Zurich Â» StÃ¤fa ZH  Switzerland   \n",
       "3                        Denmark Â» Svendborg      Denmark   \n",
       "4               Germany Â» Bayern Â» MÃ¼nchen      Germany   \n",
       "\n",
       "   Number of views last 7 days  \n",
       "0                          226  \n",
       "1                           75  \n",
       "2                          124  \n",
       "3                           64  \n",
       "4                           58  "
      ]
     },
     "execution_count": 4,
     "metadata": {},
     "output_type": "execute_result"
    }
   ],
   "source": [
    "df.head()"
   ]
  },
  {
   "cell_type": "markdown",
   "id": "9958e4d7",
   "metadata": {},
   "source": [
    "#### Currency Conversion"
   ]
  },
  {
   "cell_type": "code",
   "execution_count": 5,
   "id": "7becaf6e",
   "metadata": {},
   "outputs": [],
   "source": [
    "#derive Price_type column\n",
    "s = df.Price.str.split()"
   ]
  },
  {
   "cell_type": "code",
   "execution_count": 6,
   "id": "77b920be",
   "metadata": {
    "scrolled": false
   },
   "outputs": [],
   "source": [
    "df['Price_type'] = s.str[0]"
   ]
  },
  {
   "cell_type": "code",
   "execution_count": 7,
   "id": "d2c4873f",
   "metadata": {},
   "outputs": [
    {
     "data": {
      "text/plain": [
       "EUR    8397\n",
       "CHF     980\n",
       "Â£      295\n",
       "DKK     180\n",
       "Name: Price_type, dtype: int64"
      ]
     },
     "execution_count": 7,
     "metadata": {},
     "output_type": "execute_result"
    }
   ],
   "source": [
    "df['Price_type'].value_counts()"
   ]
  },
  {
   "cell_type": "markdown",
   "id": "9071121b",
   "metadata": {},
   "source": [
    "Euro is the most common price type, so all prices will be converted to euro."
   ]
  },
  {
   "cell_type": "code",
   "execution_count": 8,
   "id": "af3afbaa",
   "metadata": {},
   "outputs": [],
   "source": [
    "#derive Price-num column\n",
    "df['Price_num'] = s.str[1]"
   ]
  },
  {
   "cell_type": "code",
   "execution_count": 9,
   "id": "f9531e07",
   "metadata": {},
   "outputs": [
    {
     "data": {
      "text/html": [
       "<div>\n",
       "<style scoped>\n",
       "    .dataframe tbody tr th:only-of-type {\n",
       "        vertical-align: middle;\n",
       "    }\n",
       "\n",
       "    .dataframe tbody tr th {\n",
       "        vertical-align: top;\n",
       "    }\n",
       "\n",
       "    .dataframe thead th {\n",
       "        text-align: right;\n",
       "    }\n",
       "</style>\n",
       "<table border=\"1\" class=\"dataframe\">\n",
       "  <thead>\n",
       "    <tr style=\"text-align: right;\">\n",
       "      <th></th>\n",
       "      <th>Price</th>\n",
       "      <th>Boat Type</th>\n",
       "      <th>Manufacturer</th>\n",
       "      <th>Short Description</th>\n",
       "      <th>Year Built</th>\n",
       "      <th>Length</th>\n",
       "      <th>Width</th>\n",
       "      <th>Material</th>\n",
       "      <th>Location</th>\n",
       "      <th>Country</th>\n",
       "      <th>Number of views last 7 days</th>\n",
       "      <th>Price_type</th>\n",
       "      <th>Price_num</th>\n",
       "    </tr>\n",
       "  </thead>\n",
       "  <tbody>\n",
       "    <tr>\n",
       "      <th>0</th>\n",
       "      <td>CHF 3337</td>\n",
       "      <td>Motor Yacht</td>\n",
       "      <td>Rigiflex power boats</td>\n",
       "      <td>new boat from stock</td>\n",
       "      <td>2017</td>\n",
       "      <td>4.00</td>\n",
       "      <td>1.90</td>\n",
       "      <td>NaN</td>\n",
       "      <td>Switzerland Â» Lake Geneva Â» VÃ©senaz</td>\n",
       "      <td>Switzerland</td>\n",
       "      <td>226</td>\n",
       "      <td>CHF</td>\n",
       "      <td>3337</td>\n",
       "    </tr>\n",
       "    <tr>\n",
       "      <th>1</th>\n",
       "      <td>EUR 3490</td>\n",
       "      <td>Center console boat</td>\n",
       "      <td>Terhi power boats</td>\n",
       "      <td>new boat from stock</td>\n",
       "      <td>2020</td>\n",
       "      <td>4.00</td>\n",
       "      <td>1.50</td>\n",
       "      <td>Thermoplastic</td>\n",
       "      <td>Germany Â» BÃ¶nningstedt</td>\n",
       "      <td>Germany</td>\n",
       "      <td>75</td>\n",
       "      <td>EUR</td>\n",
       "      <td>3490</td>\n",
       "    </tr>\n",
       "    <tr>\n",
       "      <th>2</th>\n",
       "      <td>CHF 3770</td>\n",
       "      <td>Sport Boat</td>\n",
       "      <td>Marine power boats</td>\n",
       "      <td>new boat from stock</td>\n",
       "      <td>0</td>\n",
       "      <td>3.69</td>\n",
       "      <td>1.42</td>\n",
       "      <td>Aluminium</td>\n",
       "      <td>Switzerland Â» Lake of Zurich Â» StÃ¤fa ZH</td>\n",
       "      <td>Switzerland</td>\n",
       "      <td>124</td>\n",
       "      <td>CHF</td>\n",
       "      <td>3770</td>\n",
       "    </tr>\n",
       "    <tr>\n",
       "      <th>3</th>\n",
       "      <td>DKK 25900</td>\n",
       "      <td>Sport Boat</td>\n",
       "      <td>Pioner power boats</td>\n",
       "      <td>new boat from stock</td>\n",
       "      <td>2020</td>\n",
       "      <td>3.00</td>\n",
       "      <td>1.00</td>\n",
       "      <td>NaN</td>\n",
       "      <td>Denmark Â» Svendborg</td>\n",
       "      <td>Denmark</td>\n",
       "      <td>64</td>\n",
       "      <td>DKK</td>\n",
       "      <td>25900</td>\n",
       "    </tr>\n",
       "    <tr>\n",
       "      <th>4</th>\n",
       "      <td>EUR 3399</td>\n",
       "      <td>Fishing Boat</td>\n",
       "      <td>Linder power boats</td>\n",
       "      <td>new boat from stock</td>\n",
       "      <td>2019</td>\n",
       "      <td>3.55</td>\n",
       "      <td>1.46</td>\n",
       "      <td>Aluminium</td>\n",
       "      <td>Germany Â» Bayern Â» MÃ¼nchen</td>\n",
       "      <td>Germany</td>\n",
       "      <td>58</td>\n",
       "      <td>EUR</td>\n",
       "      <td>3399</td>\n",
       "    </tr>\n",
       "  </tbody>\n",
       "</table>\n",
       "</div>"
      ],
      "text/plain": [
       "       Price            Boat Type          Manufacturer    Short Description  \\\n",
       "0   CHF 3337          Motor Yacht  Rigiflex power boats  new boat from stock   \n",
       "1   EUR 3490  Center console boat     Terhi power boats  new boat from stock   \n",
       "2   CHF 3770           Sport Boat    Marine power boats  new boat from stock   \n",
       "3  DKK 25900           Sport Boat    Pioner power boats  new boat from stock   \n",
       "4   EUR 3399         Fishing Boat    Linder power boats  new boat from stock   \n",
       "\n",
       "   Year Built  Length  Width       Material  \\\n",
       "0        2017    4.00   1.90            NaN   \n",
       "1        2020    4.00   1.50  Thermoplastic   \n",
       "2           0    3.69   1.42      Aluminium   \n",
       "3        2020    3.00   1.00            NaN   \n",
       "4        2019    3.55   1.46      Aluminium   \n",
       "\n",
       "                                     Location      Country  \\\n",
       "0      Switzerland Â» Lake Geneva Â» VÃ©senaz  Switzerland   \n",
       "1                    Germany Â» BÃ¶nningstedt      Germany   \n",
       "2  Switzerland Â» Lake of Zurich Â» StÃ¤fa ZH  Switzerland   \n",
       "3                        Denmark Â» Svendborg      Denmark   \n",
       "4               Germany Â» Bayern Â» MÃ¼nchen      Germany   \n",
       "\n",
       "   Number of views last 7 days Price_type Price_num  \n",
       "0                          226        CHF      3337  \n",
       "1                           75        EUR      3490  \n",
       "2                          124        CHF      3770  \n",
       "3                           64        DKK     25900  \n",
       "4                           58        EUR      3399  "
      ]
     },
     "execution_count": 9,
     "metadata": {},
     "output_type": "execute_result"
    }
   ],
   "source": [
    "df.head()"
   ]
  },
  {
   "cell_type": "code",
   "execution_count": 10,
   "id": "872373a1",
   "metadata": {},
   "outputs": [
    {
     "data": {
      "text/plain": [
       "Price                           object\n",
       "Boat Type                       object\n",
       "Manufacturer                    object\n",
       "Short Description               object\n",
       "Year Built                       int64\n",
       "Length                         float64\n",
       "Width                          float64\n",
       "Material                        object\n",
       "Location                        object\n",
       "Country                         object\n",
       "Number of views last 7 days      int64\n",
       "Price_type                      object\n",
       "Price_num                       object\n",
       "dtype: object"
      ]
     },
     "execution_count": 10,
     "metadata": {},
     "output_type": "execute_result"
    }
   ],
   "source": [
    "df.dtypes"
   ]
  },
  {
   "cell_type": "code",
   "execution_count": 11,
   "id": "dbf6e171",
   "metadata": {},
   "outputs": [],
   "source": [
    "#convert price_num to int\n",
    "df['Price_num']=pd.to_numeric(df['Price_num'])"
   ]
  },
  {
   "cell_type": "code",
   "execution_count": 12,
   "id": "492bbcc5",
   "metadata": {},
   "outputs": [
    {
     "data": {
      "text/plain": [
       "Price                           object\n",
       "Boat Type                       object\n",
       "Manufacturer                    object\n",
       "Short Description               object\n",
       "Year Built                       int64\n",
       "Length                         float64\n",
       "Width                          float64\n",
       "Material                        object\n",
       "Location                        object\n",
       "Country                         object\n",
       "Number of views last 7 days      int64\n",
       "Price_type                      object\n",
       "Price_num                        int64\n",
       "dtype: object"
      ]
     },
     "execution_count": 12,
     "metadata": {},
     "output_type": "execute_result"
    }
   ],
   "source": [
    "df.dtypes"
   ]
  },
  {
   "cell_type": "markdown",
   "id": "e68582a0",
   "metadata": {},
   "source": [
    "Success"
   ]
  },
  {
   "cell_type": "code",
   "execution_count": 23,
   "id": "17862da2",
   "metadata": {},
   "outputs": [],
   "source": [
    "def currency_conversion(df):\n",
    "    if df[0] == ('CHF'):\n",
    "        return round((df[1])*(1.04691), 2)\n",
    "    elif df[0]=='DKK':\n",
    "        return round((df[1])*(.134166), 2)\n",
    "    elif df[0]=='Â£':\n",
    "        return round((df[1])*(1.16217), 2)\n",
    "    else:\n",
    "        return df[1]"
   ]
  },
  {
   "cell_type": "code",
   "execution_count": 24,
   "id": "1d59ee56",
   "metadata": {},
   "outputs": [],
   "source": [
    "df['Price_adjusted'] = df[['Price_type','Price_num']].apply(currency_conversion, axis=1)"
   ]
  },
  {
   "cell_type": "code",
   "execution_count": 25,
   "id": "1edd643b",
   "metadata": {},
   "outputs": [
    {
     "data": {
      "text/html": [
       "<div>\n",
       "<style scoped>\n",
       "    .dataframe tbody tr th:only-of-type {\n",
       "        vertical-align: middle;\n",
       "    }\n",
       "\n",
       "    .dataframe tbody tr th {\n",
       "        vertical-align: top;\n",
       "    }\n",
       "\n",
       "    .dataframe thead th {\n",
       "        text-align: right;\n",
       "    }\n",
       "</style>\n",
       "<table border=\"1\" class=\"dataframe\">\n",
       "  <thead>\n",
       "    <tr style=\"text-align: right;\">\n",
       "      <th></th>\n",
       "      <th>Price</th>\n",
       "      <th>Boat Type</th>\n",
       "      <th>Manufacturer</th>\n",
       "      <th>Short Description</th>\n",
       "      <th>Year Built</th>\n",
       "      <th>Length</th>\n",
       "      <th>Width</th>\n",
       "      <th>Material</th>\n",
       "      <th>Location</th>\n",
       "      <th>Country</th>\n",
       "      <th>Number of views last 7 days</th>\n",
       "      <th>Price_type</th>\n",
       "      <th>Price_num</th>\n",
       "      <th>Price_adjusted</th>\n",
       "    </tr>\n",
       "  </thead>\n",
       "  <tbody>\n",
       "    <tr>\n",
       "      <th>0</th>\n",
       "      <td>CHF 3337</td>\n",
       "      <td>Motor Yacht</td>\n",
       "      <td>Rigiflex power boats</td>\n",
       "      <td>new boat from stock</td>\n",
       "      <td>2017</td>\n",
       "      <td>4.00</td>\n",
       "      <td>1.90</td>\n",
       "      <td>NaN</td>\n",
       "      <td>Switzerland Â» Lake Geneva Â» VÃ©senaz</td>\n",
       "      <td>Switzerland</td>\n",
       "      <td>226</td>\n",
       "      <td>CHF</td>\n",
       "      <td>3337</td>\n",
       "      <td>3493.54</td>\n",
       "    </tr>\n",
       "    <tr>\n",
       "      <th>1</th>\n",
       "      <td>EUR 3490</td>\n",
       "      <td>Center console boat</td>\n",
       "      <td>Terhi power boats</td>\n",
       "      <td>new boat from stock</td>\n",
       "      <td>2020</td>\n",
       "      <td>4.00</td>\n",
       "      <td>1.50</td>\n",
       "      <td>Thermoplastic</td>\n",
       "      <td>Germany Â» BÃ¶nningstedt</td>\n",
       "      <td>Germany</td>\n",
       "      <td>75</td>\n",
       "      <td>EUR</td>\n",
       "      <td>3490</td>\n",
       "      <td>3490.00</td>\n",
       "    </tr>\n",
       "    <tr>\n",
       "      <th>2</th>\n",
       "      <td>CHF 3770</td>\n",
       "      <td>Sport Boat</td>\n",
       "      <td>Marine power boats</td>\n",
       "      <td>new boat from stock</td>\n",
       "      <td>0</td>\n",
       "      <td>3.69</td>\n",
       "      <td>1.42</td>\n",
       "      <td>Aluminium</td>\n",
       "      <td>Switzerland Â» Lake of Zurich Â» StÃ¤fa ZH</td>\n",
       "      <td>Switzerland</td>\n",
       "      <td>124</td>\n",
       "      <td>CHF</td>\n",
       "      <td>3770</td>\n",
       "      <td>3946.85</td>\n",
       "    </tr>\n",
       "    <tr>\n",
       "      <th>3</th>\n",
       "      <td>DKK 25900</td>\n",
       "      <td>Sport Boat</td>\n",
       "      <td>Pioner power boats</td>\n",
       "      <td>new boat from stock</td>\n",
       "      <td>2020</td>\n",
       "      <td>3.00</td>\n",
       "      <td>1.00</td>\n",
       "      <td>NaN</td>\n",
       "      <td>Denmark Â» Svendborg</td>\n",
       "      <td>Denmark</td>\n",
       "      <td>64</td>\n",
       "      <td>DKK</td>\n",
       "      <td>25900</td>\n",
       "      <td>3474.90</td>\n",
       "    </tr>\n",
       "    <tr>\n",
       "      <th>4</th>\n",
       "      <td>EUR 3399</td>\n",
       "      <td>Fishing Boat</td>\n",
       "      <td>Linder power boats</td>\n",
       "      <td>new boat from stock</td>\n",
       "      <td>2019</td>\n",
       "      <td>3.55</td>\n",
       "      <td>1.46</td>\n",
       "      <td>Aluminium</td>\n",
       "      <td>Germany Â» Bayern Â» MÃ¼nchen</td>\n",
       "      <td>Germany</td>\n",
       "      <td>58</td>\n",
       "      <td>EUR</td>\n",
       "      <td>3399</td>\n",
       "      <td>3399.00</td>\n",
       "    </tr>\n",
       "  </tbody>\n",
       "</table>\n",
       "</div>"
      ],
      "text/plain": [
       "       Price            Boat Type          Manufacturer    Short Description  \\\n",
       "0   CHF 3337          Motor Yacht  Rigiflex power boats  new boat from stock   \n",
       "1   EUR 3490  Center console boat     Terhi power boats  new boat from stock   \n",
       "2   CHF 3770           Sport Boat    Marine power boats  new boat from stock   \n",
       "3  DKK 25900           Sport Boat    Pioner power boats  new boat from stock   \n",
       "4   EUR 3399         Fishing Boat    Linder power boats  new boat from stock   \n",
       "\n",
       "   Year Built  Length  Width       Material  \\\n",
       "0        2017    4.00   1.90            NaN   \n",
       "1        2020    4.00   1.50  Thermoplastic   \n",
       "2           0    3.69   1.42      Aluminium   \n",
       "3        2020    3.00   1.00            NaN   \n",
       "4        2019    3.55   1.46      Aluminium   \n",
       "\n",
       "                                     Location      Country  \\\n",
       "0      Switzerland Â» Lake Geneva Â» VÃ©senaz  Switzerland   \n",
       "1                    Germany Â» BÃ¶nningstedt      Germany   \n",
       "2  Switzerland Â» Lake of Zurich Â» StÃ¤fa ZH  Switzerland   \n",
       "3                        Denmark Â» Svendborg      Denmark   \n",
       "4               Germany Â» Bayern Â» MÃ¼nchen      Germany   \n",
       "\n",
       "   Number of views last 7 days Price_type  Price_num  Price_adjusted  \n",
       "0                          226        CHF       3337         3493.54  \n",
       "1                           75        EUR       3490         3490.00  \n",
       "2                          124        CHF       3770         3946.85  \n",
       "3                           64        DKK      25900         3474.90  \n",
       "4                           58        EUR       3399         3399.00  "
      ]
     },
     "execution_count": 25,
     "metadata": {},
     "output_type": "execute_result"
    }
   ],
   "source": [
    "df.head()"
   ]
  },
  {
   "cell_type": "markdown",
   "id": "80f2e9da",
   "metadata": {},
   "source": [
    "Success. "
   ]
  },
  {
   "cell_type": "markdown",
   "id": "ead5ab3d",
   "metadata": {},
   "source": [
    "#### ACBS Boat Classifications"
   ]
  },
  {
   "cell_type": "code",
   "execution_count": 57,
   "id": "811d5c34",
   "metadata": {},
   "outputs": [],
   "source": [
    "def boat_classification(df):\n",
    "    if df in range(1885, 1919):\n",
    "        return 'Historic'\n",
    "    elif df in range(1919, 1943):\n",
    "        return 'Antique'\n",
    "    elif df in range(1943, 1976):\n",
    "        return 'Classic'\n",
    "    elif df in range(1976, 1998):\n",
    "        return 'Late Classic'\n",
    "    elif df in range(1998, 2024):\n",
    "        return 'Contemporary'\n",
    "    else:\n",
    "        return 'Unknown'"
   ]
  },
  {
   "cell_type": "code",
   "execution_count": 65,
   "id": "4bd76e7a",
   "metadata": {},
   "outputs": [],
   "source": [
    "df['Age_Classification'] = df['Year Built'].apply(boat_classification)"
   ]
  },
  {
   "cell_type": "code",
   "execution_count": 67,
   "id": "4d360536",
   "metadata": {
    "scrolled": false
   },
   "outputs": [
    {
     "data": {
      "text/plain": [
       "Contemporary    7184\n",
       "Late Classic    1692\n",
       "Unknown          551\n",
       "Classic          304\n",
       "Antique           71\n",
       "Historic          50\n",
       "Name: Age_Classification, dtype: int64"
      ]
     },
     "execution_count": 67,
     "metadata": {},
     "output_type": "execute_result"
    }
   ],
   "source": [
    "df['Age_Classification'].value_counts()"
   ]
  },
  {
   "cell_type": "markdown",
   "id": "50582910",
   "metadata": {},
   "source": [
    "Success"
   ]
  },
  {
   "cell_type": "code",
   "execution_count": 66,
   "id": "12b6ceb4",
   "metadata": {
    "scrolled": false
   },
   "outputs": [
    {
     "data": {
      "text/html": [
       "<div>\n",
       "<style scoped>\n",
       "    .dataframe tbody tr th:only-of-type {\n",
       "        vertical-align: middle;\n",
       "    }\n",
       "\n",
       "    .dataframe tbody tr th {\n",
       "        vertical-align: top;\n",
       "    }\n",
       "\n",
       "    .dataframe thead th {\n",
       "        text-align: right;\n",
       "    }\n",
       "</style>\n",
       "<table border=\"1\" class=\"dataframe\">\n",
       "  <thead>\n",
       "    <tr style=\"text-align: right;\">\n",
       "      <th></th>\n",
       "      <th>Price</th>\n",
       "      <th>Boat Type</th>\n",
       "      <th>Manufacturer</th>\n",
       "      <th>Short Description</th>\n",
       "      <th>Year Built</th>\n",
       "      <th>Length</th>\n",
       "      <th>Width</th>\n",
       "      <th>Material</th>\n",
       "      <th>Location</th>\n",
       "      <th>Country</th>\n",
       "      <th>Number of views last 7 days</th>\n",
       "      <th>Price_type</th>\n",
       "      <th>Price_num</th>\n",
       "      <th>Price_adjusted</th>\n",
       "      <th>Age_Classification</th>\n",
       "    </tr>\n",
       "  </thead>\n",
       "  <tbody>\n",
       "    <tr>\n",
       "      <th>0</th>\n",
       "      <td>CHF 3337</td>\n",
       "      <td>Motor Yacht</td>\n",
       "      <td>Rigiflex power boats</td>\n",
       "      <td>new boat from stock</td>\n",
       "      <td>2017</td>\n",
       "      <td>4.00</td>\n",
       "      <td>1.90</td>\n",
       "      <td>NaN</td>\n",
       "      <td>Switzerland Â» Lake Geneva Â» VÃ©senaz</td>\n",
       "      <td>Switzerland</td>\n",
       "      <td>226</td>\n",
       "      <td>CHF</td>\n",
       "      <td>3337</td>\n",
       "      <td>3493.54</td>\n",
       "      <td>Contemporary</td>\n",
       "    </tr>\n",
       "    <tr>\n",
       "      <th>1</th>\n",
       "      <td>EUR 3490</td>\n",
       "      <td>Center console boat</td>\n",
       "      <td>Terhi power boats</td>\n",
       "      <td>new boat from stock</td>\n",
       "      <td>2020</td>\n",
       "      <td>4.00</td>\n",
       "      <td>1.50</td>\n",
       "      <td>Thermoplastic</td>\n",
       "      <td>Germany Â» BÃ¶nningstedt</td>\n",
       "      <td>Germany</td>\n",
       "      <td>75</td>\n",
       "      <td>EUR</td>\n",
       "      <td>3490</td>\n",
       "      <td>3490.00</td>\n",
       "      <td>Contemporary</td>\n",
       "    </tr>\n",
       "    <tr>\n",
       "      <th>2</th>\n",
       "      <td>CHF 3770</td>\n",
       "      <td>Sport Boat</td>\n",
       "      <td>Marine power boats</td>\n",
       "      <td>new boat from stock</td>\n",
       "      <td>0</td>\n",
       "      <td>3.69</td>\n",
       "      <td>1.42</td>\n",
       "      <td>Aluminium</td>\n",
       "      <td>Switzerland Â» Lake of Zurich Â» StÃ¤fa ZH</td>\n",
       "      <td>Switzerland</td>\n",
       "      <td>124</td>\n",
       "      <td>CHF</td>\n",
       "      <td>3770</td>\n",
       "      <td>3946.85</td>\n",
       "      <td>Unknown</td>\n",
       "    </tr>\n",
       "    <tr>\n",
       "      <th>3</th>\n",
       "      <td>DKK 25900</td>\n",
       "      <td>Sport Boat</td>\n",
       "      <td>Pioner power boats</td>\n",
       "      <td>new boat from stock</td>\n",
       "      <td>2020</td>\n",
       "      <td>3.00</td>\n",
       "      <td>1.00</td>\n",
       "      <td>NaN</td>\n",
       "      <td>Denmark Â» Svendborg</td>\n",
       "      <td>Denmark</td>\n",
       "      <td>64</td>\n",
       "      <td>DKK</td>\n",
       "      <td>25900</td>\n",
       "      <td>3474.90</td>\n",
       "      <td>Contemporary</td>\n",
       "    </tr>\n",
       "    <tr>\n",
       "      <th>4</th>\n",
       "      <td>EUR 3399</td>\n",
       "      <td>Fishing Boat</td>\n",
       "      <td>Linder power boats</td>\n",
       "      <td>new boat from stock</td>\n",
       "      <td>2019</td>\n",
       "      <td>3.55</td>\n",
       "      <td>1.46</td>\n",
       "      <td>Aluminium</td>\n",
       "      <td>Germany Â» Bayern Â» MÃ¼nchen</td>\n",
       "      <td>Germany</td>\n",
       "      <td>58</td>\n",
       "      <td>EUR</td>\n",
       "      <td>3399</td>\n",
       "      <td>3399.00</td>\n",
       "      <td>Contemporary</td>\n",
       "    </tr>\n",
       "  </tbody>\n",
       "</table>\n",
       "</div>"
      ],
      "text/plain": [
       "       Price            Boat Type          Manufacturer    Short Description  \\\n",
       "0   CHF 3337          Motor Yacht  Rigiflex power boats  new boat from stock   \n",
       "1   EUR 3490  Center console boat     Terhi power boats  new boat from stock   \n",
       "2   CHF 3770           Sport Boat    Marine power boats  new boat from stock   \n",
       "3  DKK 25900           Sport Boat    Pioner power boats  new boat from stock   \n",
       "4   EUR 3399         Fishing Boat    Linder power boats  new boat from stock   \n",
       "\n",
       "   Year Built  Length  Width       Material  \\\n",
       "0        2017    4.00   1.90            NaN   \n",
       "1        2020    4.00   1.50  Thermoplastic   \n",
       "2           0    3.69   1.42      Aluminium   \n",
       "3        2020    3.00   1.00            NaN   \n",
       "4        2019    3.55   1.46      Aluminium   \n",
       "\n",
       "                                     Location      Country  \\\n",
       "0      Switzerland Â» Lake Geneva Â» VÃ©senaz  Switzerland   \n",
       "1                    Germany Â» BÃ¶nningstedt      Germany   \n",
       "2  Switzerland Â» Lake of Zurich Â» StÃ¤fa ZH  Switzerland   \n",
       "3                        Denmark Â» Svendborg      Denmark   \n",
       "4               Germany Â» Bayern Â» MÃ¼nchen      Germany   \n",
       "\n",
       "   Number of views last 7 days Price_type  Price_num  Price_adjusted  \\\n",
       "0                          226        CHF       3337         3493.54   \n",
       "1                           75        EUR       3490         3490.00   \n",
       "2                          124        CHF       3770         3946.85   \n",
       "3                           64        DKK      25900         3474.90   \n",
       "4                           58        EUR       3399         3399.00   \n",
       "\n",
       "  Age_Classification  \n",
       "0       Contemporary  \n",
       "1       Contemporary  \n",
       "2            Unknown  \n",
       "3       Contemporary  \n",
       "4       Contemporary  "
      ]
     },
     "execution_count": 66,
     "metadata": {},
     "output_type": "execute_result"
    }
   ],
   "source": [
    "df.head()"
   ]
  },
  {
   "cell_type": "markdown",
   "id": "c56c5353",
   "metadata": {},
   "source": [
    "#### Boat size classification"
   ]
  },
  {
   "cell_type": "code",
   "execution_count": 68,
   "id": "2cfa982c",
   "metadata": {},
   "outputs": [],
   "source": [
    "#smallest to biggest: A, 1, 2, 3\n",
    "def size_classification(df):\n",
    "    if df < 5:\n",
    "        return 'Class A'\n",
    "    elif df <= 7.9:\n",
    "        return 'Class 1'\n",
    "    elif df <= 12.2:\n",
    "        return 'Class 2'\n",
    "    elif df <= 19.8:\n",
    "        return 'Class 3'\n",
    "    elif df <= 80:\n",
    "        return 'Superyacht'\n",
    "    elif df <= 100:\n",
    "        return 'Megayacht'\n",
    "    else:\n",
    "        return 'Unknown'"
   ]
  },
  {
   "cell_type": "code",
   "execution_count": 69,
   "id": "dd1e4163",
   "metadata": {},
   "outputs": [],
   "source": [
    "df['Size_Classification'] = df['Length'].apply(size_classification)"
   ]
  },
  {
   "cell_type": "code",
   "execution_count": 72,
   "id": "f9cd5c7c",
   "metadata": {},
   "outputs": [
    {
     "data": {
      "text/plain": [
       "Class 2       3492\n",
       "Class 1       2689\n",
       "Class 3       2575\n",
       "Superyacht     816\n",
       "Class A        268\n",
       "Unknown          9\n",
       "Megayacht        3\n",
       "Name: Size_Classification, dtype: int64"
      ]
     },
     "execution_count": 72,
     "metadata": {},
     "output_type": "execute_result"
    }
   ],
   "source": [
    "df['Size_Classification'].value_counts()"
   ]
  },
  {
   "cell_type": "code",
   "execution_count": 75,
   "id": "789cf06a",
   "metadata": {},
   "outputs": [],
   "source": [
    "#export\n",
    "df.to_csv(os.path.join(path, 'Data', 'Prepared Data', 'boats_wrangled.csv'), index=False)"
   ]
  },
  {
   "cell_type": "code",
   "execution_count": null,
   "id": "ce1e04f1",
   "metadata": {},
   "outputs": [],
   "source": []
  }
 ],
 "metadata": {
  "kernelspec": {
   "display_name": "Python 3 (ipykernel)",
   "language": "python",
   "name": "python3"
  },
  "language_info": {
   "codemirror_mode": {
    "name": "ipython",
    "version": 3
   },
   "file_extension": ".py",
   "mimetype": "text/x-python",
   "name": "python",
   "nbconvert_exporter": "python",
   "pygments_lexer": "ipython3",
   "version": "3.11.3"
  }
 },
 "nbformat": 4,
 "nbformat_minor": 5
}
